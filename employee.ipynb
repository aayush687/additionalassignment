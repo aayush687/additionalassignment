{
 "cells": [
  {
   "cell_type": "markdown",
   "metadata": {},
   "source": [
    "Employee class"
   ]
  },
  {
   "cell_type": "code",
   "execution_count": 2,
   "metadata": {},
   "outputs": [
    {
     "name": "stdout",
     "output_type": "stream",
     "text": [
      "Name = rambhajan\n",
      "Position = head\n",
      "Salary = 100000.0\n"
     ]
    }
   ],
   "source": [
    "class Employee:\n",
    "    def __init__(self):\n",
    "        self.name = \"\"\n",
    "        self.position =\"\"\n",
    "        self.salary = 0\n",
    "\n",
    "    #ask user for input\n",
    "    def user_input(self):\n",
    "        self.name = input(\"Enter employee name:\")\n",
    "        self.position = input(\"Enter employee position:\")\n",
    "        self.salary = float(input(\"Enter employee salary:\"))\n",
    "\n",
    "    def display(self):\n",
    "        print(f\"Name = {self.name}\")\n",
    "        print(f\"Position = {self.position}\")\n",
    "        print(f\"Salary = {self.salary}\")\n",
    "\n",
    "employee1 = Employee()\n",
    "employee1.user_input()\n",
    "employee1.display()\n",
    "\n"
   ]
  },
  {
   "cell_type": "code",
   "execution_count": 3,
   "metadata": {},
   "outputs": [
    {
     "name": "stdout",
     "output_type": "stream",
     "text": [
      "Employee Name = Aayush\n",
      "Position = Hod\n",
      "Salary = 100000\n"
     ]
    }
   ],
   "source": [
    "class Employee:\n",
    "    def __init__(self, name, position, salary):\n",
    "        self.name = name\n",
    "        self.position = position\n",
    "        self.salary = salary\n",
    "\n",
    "    def display(self):\n",
    "        print(f\"Employee Name = {self.name}\")\n",
    "        print(f\"Position = {self.position}\")\n",
    "        print(f\"Salary = {self.salary}\")\n",
    "\n",
    "#parameter passing\n",
    "employee1 = Employee(\"Aayush\", \"Hod\", 100000)\n",
    "employee1.display()"
   ]
  },
  {
   "cell_type": "code",
   "execution_count": null,
   "metadata": {},
   "outputs": [],
   "source": []
  }
 ],
 "metadata": {
  "kernelspec": {
   "display_name": "Python 3",
   "language": "python",
   "name": "python3"
  },
  "language_info": {
   "codemirror_mode": {
    "name": "ipython",
    "version": 3
   },
   "file_extension": ".py",
   "mimetype": "text/x-python",
   "name": "python",
   "nbconvert_exporter": "python",
   "pygments_lexer": "ipython3",
   "version": "3.13.0"
  }
 },
 "nbformat": 4,
 "nbformat_minor": 2
}
